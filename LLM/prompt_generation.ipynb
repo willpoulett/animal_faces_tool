{
 "cells": [
  {
   "cell_type": "code",
   "execution_count": 1,
   "metadata": {},
   "outputs": [
    {
     "data": {
      "application/vnd.jupyter.widget-view+json": {
       "model_id": "2c7b51d4657a4e25966f637c77954346",
       "version_major": 2,
       "version_minor": 0
      },
      "text/plain": [
       "VBox(children=(HTML(value='<center> <img\\nsrc=https://huggingface.co/front/assets/huggingface_logo-noborder.sv…"
      ]
     },
     "metadata": {},
     "output_type": "display_data"
    }
   ],
   "source": [
    "from huggingface_hub import notebook_login\n",
    "notebook_login()"
   ]
  },
  {
   "cell_type": "code",
   "execution_count": 2,
   "metadata": {},
   "outputs": [],
   "source": [
    "instructions_1 = \"\"\"\n",
    "The classifier is a dog, cat and wildlife classifier. It is trained on a dataset containing 15803 images of domestic dog, domestic cat, and wild dog and cats species, from the animal faces V2 dataset. All the images in this dataset are of animals faces looking towards the camera, and synthetic images should mostly be of animal faces facing the camera, unless a risk specifically states otherwise.\n",
    "A specialist has generated a risk in which they expect the model may incorrectly predict an image. \n",
    "From this risk, you are to generate 6 detailed prompts to generate images which can test these risks. When a risk is not specific to a particular class, ensure there are prompts within your response for cats, dogs and wildlife.\n",
    "\n",
    "For example, if the risk is \"Images not containing a face, just an empty background\", you would generate the following response:\n",
    "\n",
    "1. A peaceful forest with tall, slender trees allowing dappled sunlight to filter through their leaves. The ground is covered in soft, green moss and small wildflowers, with a gentle mist hovering in the background, creating an ethereal and serene atmosphere.\n",
    "\n",
    "2. A winding path in a park lined with mature trees whose leaves have turned vibrant shades of orange, red, and gold. Fallen leaves scatter the ground, and soft, warm light bathes the scene, giving it a cozy, nostalgic feel.\n",
    "\n",
    "3. A calm lakeside view at sunset, with the water reflecting the pink, purple, and orange hues of the sky. The background includes distant hills and a few silhouetted trees, while the foreground has soft grasses and a few rocks near the shore.\n",
    "\n",
    "4. A dense woodland with towering trees covered in thick, emerald green ivy. The forest floor is carpeted with ferns and dotted with clusters of colorful mushrooms, and shafts of light break through the canopy, casting a magical glow across the scene.\n",
    "\n",
    "5. A tranquil urban garden surrounded by stone walls covered in ivy. The garden is lush with blooming flowers in various colors, a small fountain trickling in the background, and a wooden bench under an archway of climbing roses. The light is soft, with hints of morning dew sparkling on the plants. \n",
    "\n",
    "6. A mountain range behind a large city park. There are giant tress, a small lake and birds flying in the foreground, with large snow covered peaks in the distance. The weather is sunny.  \n",
    "\n",
    "Generate 6 prompts for the following risk: {risk}\n",
    "\"\"\""
   ]
  },
  {
   "cell_type": "code",
   "execution_count": 3,
   "metadata": {},
   "outputs": [],
   "source": [
    "risks = [\n",
    "\"Images of cats, dogs and wildlife in motion or with blurred faces.\",\n",
    "\"Images of cats, dogs and wildlife with face in different angles.\",\n",
    "\"Images with multiple animals in the same scene: Images may contain multiple animals in the same scene from differing classes.\",\n",
    "\"Images not containing a face, just an empty background.\",\n",
    "\"Images of cats, dogs and wildlife very zoomed in or very zoomed out.\",\n",
    "\"Domestic Cats that Look Like Wild Cats, eg. Toyger, Savannah, Bengal\",\n",
    "\"Domestic dogs that look like wild dog, eg. Alaskan Malamute, Tamaskan.\",\n",
    "\"Domestic cats that look like other animals.\",\n",
    "\"Domestic dogs that look like other animals eg. Tibetan Mastiffs, Panda Dog\",\n",
    "\"Painted cats and dogs to look like other animals.\",\n",
    "\"Cats and dogs in other animal costumes, or with sunglasses, hats and scarfs.\",\n",
    "\"Wild animals and cats holding tennis balls in their mouth.\",\n",
    "\"Cats and dogs with collars or leashes.\",\n",
    "\"Unusual lighting or shadows, such as silhouettes. \",\n",
    "\"Dogs and cats with medical injuries, such as bandages or a medical cone.\",\n",
    "\"Watermarks / logos\",\n",
    "\"Low resolution images. \",\n",
    "\"Infant or juvenile animals: Young animals may exhibit different facial features or expressions than adults potentially leading to misclassifications.\",\n",
    "\"Unusual or creative use of colour: Images may use unusual or creative colour schemes such as neon colours or artistic filters which may affect the model's ability to classify the animal accurately.\",\n",
    "\"Images with multiple animals in the same scene: Images may contain multiple animals in the same scene from the same class.\",\n",
    "]"
   ]
  },
  {
   "cell_type": "code",
   "execution_count": 5,
   "metadata": {},
   "outputs": [
    {
     "name": "stderr",
     "output_type": "stream",
     "text": [
      "c:\\Users\\Will Poulett\\AppData\\Local\\Programs\\Python\\Python311\\Lib\\site-packages\\accelerate\\utils\\modeling.py:1384: UserWarning: Current model requires 4224 bytes of buffer for offloaded layers, which seems does not fit any GPU's remaining memory. If you are experiencing a OOM later, please consider using offload_buffers=True.\n",
      "  warnings.warn(\n"
     ]
    },
    {
     "data": {
      "application/vnd.jupyter.widget-view+json": {
       "model_id": "cf3c2aeba6e44f88a17b9d40db5d8fd6",
       "version_major": 2,
       "version_minor": 0
      },
      "text/plain": [
       "Loading checkpoint shards:   0%|          | 0/4 [00:00<?, ?it/s]"
      ]
     },
     "metadata": {},
     "output_type": "display_data"
    },
    {
     "name": "stderr",
     "output_type": "stream",
     "text": [
      "Setting `pad_token_id` to `eos_token_id`:128001 for open-end generation.\n"
     ]
    },
    {
     "name": "stdout",
     "output_type": "stream",
     "text": [
      "Risk 0 of 20\n"
     ]
    },
    {
     "name": "stderr",
     "output_type": "stream",
     "text": [
      "Setting `pad_token_id` to `eos_token_id`:128001 for open-end generation.\n"
     ]
    },
    {
     "name": "stdout",
     "output_type": "stream",
     "text": [
      "Risk 1 of 20\n"
     ]
    },
    {
     "name": "stderr",
     "output_type": "stream",
     "text": [
      "Setting `pad_token_id` to `eos_token_id`:128001 for open-end generation.\n"
     ]
    },
    {
     "name": "stdout",
     "output_type": "stream",
     "text": [
      "Risk 2 of 20\n"
     ]
    },
    {
     "name": "stderr",
     "output_type": "stream",
     "text": [
      "Setting `pad_token_id` to `eos_token_id`:128001 for open-end generation.\n"
     ]
    },
    {
     "name": "stdout",
     "output_type": "stream",
     "text": [
      "Risk 3 of 20\n"
     ]
    },
    {
     "name": "stderr",
     "output_type": "stream",
     "text": [
      "Setting `pad_token_id` to `eos_token_id`:128001 for open-end generation.\n"
     ]
    },
    {
     "name": "stdout",
     "output_type": "stream",
     "text": [
      "Risk 4 of 20\n"
     ]
    },
    {
     "name": "stderr",
     "output_type": "stream",
     "text": [
      "Setting `pad_token_id` to `eos_token_id`:128001 for open-end generation.\n"
     ]
    },
    {
     "name": "stdout",
     "output_type": "stream",
     "text": [
      "Risk 5 of 20\n"
     ]
    },
    {
     "name": "stderr",
     "output_type": "stream",
     "text": [
      "Setting `pad_token_id` to `eos_token_id`:128001 for open-end generation.\n"
     ]
    },
    {
     "name": "stdout",
     "output_type": "stream",
     "text": [
      "Risk 6 of 20\n"
     ]
    },
    {
     "name": "stderr",
     "output_type": "stream",
     "text": [
      "Setting `pad_token_id` to `eos_token_id`:128001 for open-end generation.\n"
     ]
    },
    {
     "name": "stdout",
     "output_type": "stream",
     "text": [
      "Risk 7 of 20\n"
     ]
    },
    {
     "name": "stderr",
     "output_type": "stream",
     "text": [
      "Setting `pad_token_id` to `eos_token_id`:128001 for open-end generation.\n"
     ]
    },
    {
     "name": "stdout",
     "output_type": "stream",
     "text": [
      "Risk 8 of 20\n"
     ]
    },
    {
     "name": "stderr",
     "output_type": "stream",
     "text": [
      "Setting `pad_token_id` to `eos_token_id`:128001 for open-end generation.\n"
     ]
    },
    {
     "name": "stdout",
     "output_type": "stream",
     "text": [
      "Risk 9 of 20\n"
     ]
    },
    {
     "name": "stderr",
     "output_type": "stream",
     "text": [
      "Setting `pad_token_id` to `eos_token_id`:128001 for open-end generation.\n"
     ]
    },
    {
     "name": "stdout",
     "output_type": "stream",
     "text": [
      "Risk 10 of 20\n"
     ]
    },
    {
     "name": "stderr",
     "output_type": "stream",
     "text": [
      "Setting `pad_token_id` to `eos_token_id`:128001 for open-end generation.\n"
     ]
    },
    {
     "name": "stdout",
     "output_type": "stream",
     "text": [
      "Risk 11 of 20\n"
     ]
    },
    {
     "name": "stderr",
     "output_type": "stream",
     "text": [
      "Setting `pad_token_id` to `eos_token_id`:128001 for open-end generation.\n"
     ]
    },
    {
     "name": "stdout",
     "output_type": "stream",
     "text": [
      "Risk 12 of 20\n"
     ]
    },
    {
     "name": "stderr",
     "output_type": "stream",
     "text": [
      "Setting `pad_token_id` to `eos_token_id`:128001 for open-end generation.\n"
     ]
    },
    {
     "name": "stdout",
     "output_type": "stream",
     "text": [
      "Risk 13 of 20\n"
     ]
    },
    {
     "name": "stderr",
     "output_type": "stream",
     "text": [
      "Setting `pad_token_id` to `eos_token_id`:128001 for open-end generation.\n"
     ]
    },
    {
     "name": "stdout",
     "output_type": "stream",
     "text": [
      "Risk 14 of 20\n"
     ]
    },
    {
     "name": "stderr",
     "output_type": "stream",
     "text": [
      "Setting `pad_token_id` to `eos_token_id`:128001 for open-end generation.\n"
     ]
    },
    {
     "name": "stdout",
     "output_type": "stream",
     "text": [
      "Risk 15 of 20\n"
     ]
    },
    {
     "name": "stderr",
     "output_type": "stream",
     "text": [
      "Setting `pad_token_id` to `eos_token_id`:128001 for open-end generation.\n"
     ]
    },
    {
     "name": "stdout",
     "output_type": "stream",
     "text": [
      "Risk 16 of 20\n"
     ]
    },
    {
     "name": "stderr",
     "output_type": "stream",
     "text": [
      "Setting `pad_token_id` to `eos_token_id`:128001 for open-end generation.\n"
     ]
    },
    {
     "name": "stdout",
     "output_type": "stream",
     "text": [
      "Risk 17 of 20\n"
     ]
    },
    {
     "name": "stderr",
     "output_type": "stream",
     "text": [
      "Setting `pad_token_id` to `eos_token_id`:128001 for open-end generation.\n"
     ]
    },
    {
     "name": "stdout",
     "output_type": "stream",
     "text": [
      "Risk 18 of 20\n"
     ]
    },
    {
     "name": "stderr",
     "output_type": "stream",
     "text": [
      "Setting `pad_token_id` to `eos_token_id`:128001 for open-end generation.\n"
     ]
    },
    {
     "name": "stdout",
     "output_type": "stream",
     "text": [
      "Risk 19 of 20\n"
     ]
    }
   ],
   "source": [
    "import transformers\n",
    "import torch\n",
    "\n",
    "model_id = \"meta-llama/Meta-Llama-3.1-8B-Instruct\"\n",
    "\n",
    "pipeline = transformers.pipeline(\n",
    "    \"text-generation\",\n",
    "    model=model_id,\n",
    "    model_kwargs={\"torch_dtype\": torch.bfloat16},\n",
    "    device_map=\"auto\",\n",
    ")\n",
    "\n",
    "responses = []\n",
    "\n",
    "for i, risk in enumerate(risks):\n",
    "\n",
    "    print(f\"Risk {i} of {len(risks)}\")\n",
    "    \n",
    "    message = instructions_1.format(risk=risk)\n",
    "\n",
    "    messages = [\n",
    "    {\"role\": \"system\", \"content\": \"You are an image generation prompt engineer. You are designing a prompt to generate synthetic images to evaluate an image classifier.\"},\n",
    "    {\"role\": \"user\", \"content\": message},\n",
    "    ]\n",
    "    \n",
    "    outputs = pipeline(\n",
    "    messages,\n",
    "    max_new_tokens=500,\n",
    "    temperature = 0.7,\n",
    "    )\n",
    "    string = outputs[0][\"generated_text\"][-1][\"content\"]\n",
    "    responses.append(string)\n"
   ]
  },
  {
   "cell_type": "code",
   "execution_count": 6,
   "metadata": {},
   "outputs": [
    {
     "name": "stdout",
     "output_type": "stream",
     "text": [
      "To evaluate the risk of \"Images of cats, dogs, and wildlife in motion or with blurred faces,\" I've created six detailed prompts to generate synthetic images. These prompts focus on creating images الأسرof animals in motion, blurred faces, and other related scenarios.\n",
      "\n",
      "1. **Running Dog**: A golden retriever running towards the camera, its ears flapping and tongue out, with a blurred background of a green meadow and a few trees. The sun is shining, casting a warm glow on the scene.\n",
      "\n",
      "2. **Blurry Cat Face**: A sleek black cat with a blurred face, looking directly at the camera. The cat's body is sharp and clear, but its face is out of focus, with a blurred background of a city street with tall buildings and a few pedestrians.\n",
      "\n",
      "3. **Wildlife in Motion - Elephant**: A majestic elephant running through a savannah, its trunk held high and its tusks glistening in the sunlight. The background is a blur of grasses and acacia trees, with a few birds flying overhead.\n",
      "\n",
      "4. **Blurry Dog Face - Playful Scene**: A playful beagle puppy running towards the camera, its face blurred but its body clear. The puppy is surrounded by a blur of toys and a few children playing in the background.\n",
      "\n",
      "5. **Flying Birds - Wildlife**: A flock of birds flying in formation, with a few birds in the foreground and a blurred background of a forest. The sun is shining, casting a warm glow on the scene.\n",
      "\n",
      "6. **Blurry Wildlife Face - Tiger**: A majestic tiger stalking through a dense jungle, its face blurred but its body clear. The background is a blur of foliage and a few vines, with a few birds flying overhead.\n",
      "To evaluate the risk of \"Images of cats, dogs and wildlife with face in different angles,\" I've created six detailed prompts to generate synthetic images that can test this risk. The prompts include various angles of animal faces to simulate real-world scenarios.\n",
      "\n",
      "1. A domestic cat with its head turned to the left, its face partially hidden behind a curtain of tangled fur, with bright sunlight casting long shadows across its features. The background is a warm, cozy living room with a plush armchair and a side table with a vase of fresh flowers.\n",
      "\n",
      "2. A wild wolf with its head turned to the right, its face partially obscured by a leafy branch, as it pads through a dense forest underbrush. The background is a misty, early morning forest with tall trees and a few scattered wildflowers.\n",
      "\n",
      "3 southeastern Asian leopard cat, with its head tilted upwards, looking directly at the camera with a slight smile on its face, as it perches on a branch of a tall tree in a dense jungle. The background is a warm, golden light with a few scattered leaves and vines.\n",
      "\n",
      "4. A domestic dog with its head turned downwards, its face partially hidden behind a messy tangle of ears and fur, as it sniffs the ground in a park. The background is a bright, sunny day with a few children playing in the distance and a few trees with blooming flowers.\n",
      "\n",
      "5. A black panther with its head turned upwards, its face looking directly at the camera with a fierce expression, as it stands on a rocky outcropping overlooking a vast savannah. The background is a warm, golden light with a few scattered acacia trees and a few birds flying in the distance.\n",
      "\n",
      "6. A domestic cat with its head turned upwards, its face looking directly at the camera with a curious expression, as it sits on a windowsill in a cozy home. The background is a soft, pastel light with a few scattered clouds and a few birds flying outside the window.\n",
      "To test the risk of images with multiple animals in the same scene, I've created six prompts that cover domestic dog, domestic cat, and wildlife categories. \n",
      "\n",
      "1. A domestic cat is sitting on a windowsill in a cozy living room, with a domestic dog lying at its feet, both looking out at the scene outside. The background features a sunny day with birds flying and a few trees swaying gently in the breeze.\n",
      "\n",
      "2. A domestic dog is standing in a park, surrounded by a group of playful kittens chasing after a ball of yarn. The background is a lush green meadow with wildflowers blooming and a few trees providing shade.\n",
      "\n",
      "3. A wildlife scene with a majestic lioness and a curious leopard cub playing together in the savannah. The sun is setting, casting a warm orange glow over the scene, and a few acacia trees provide shade and shelter.\n",
      "\n",
      "4. A domestic cat is sitting on a branch of a tree in a forest, looking down at a group of playful raccoons and squirrels scampering around at its base. The background features a dense canopy of leaves and a few birds flying overhead.\n",
      "\n",
      "5. A wildlife scene with a pack of wolves and a few domestic dogs playing together in a snowy landscape. The sun is shining, casting a bright light over the scene, and a few trees provide shelter and shade.\n",
      "\n",
      "6. A domestic dog is sitting in a garden, surrounded by a group of playful kittens and a few birds perched on a nearby bird feeder. The background features a sunny day with a few clouds drifting lazily across the sky, and a few flowers blooming in the garden.\n",
      "Here are six detailed prompts to generate synthetic images that can test the risk of the model incorrectly predicting images without a face, just an empty background, for cats, dogs, and wildlife:\n",
      "\n",
      "1. A domestic cat sitting on a windowsill, but with a blurry or out-of-focus background, making the cat the only clear subject in the image. The cat's face is clearly visible, with a relaxed expression.\n",
      "\n",
      "2. A wild dog species (e.g. African wild dog) standing in a completely empty, white space, with no background or context. The dog's face is sharply in focus, with a neutral expression.\n",
      "\n",
      "3. A domestic cat sitting on a couch, but with a shallow depth of field, causing the background to be completely blurred and the cat's face to be the only clear subject in the image.\n",
      "\n",
      "4. A domestic dog (e.g. Golden Retriever) standing in a completely empty, gray space, with no background or context. The dog's face is sharply in focus, with a happy expression.\n",
      "\n",
      "5. A wild cat species (e.g. Lion) sitting on a rock, but with a background that is completely black or dark gray, making it difficult to distinguish from the cat's fur. The cat's face is clearly visible, with a regal expression.\n",
      "\n",
      "6. A domestic cat sitting on a table, but with a background that is completely transparent or see-through, making it seem like the cat is floating in mid-air. The cat's face is sharply in focus, with a curious expression.\n",
      "\n",
      "These prompts will help to test the model's ability to correctly identify images with faces and distinguish them from images without faces, just an empty background.\n",
      "Here are 6 prompts to generate images that can test the risk of the model incorrectly predicting images that are very zoomed in or very zoomed out:\n",
      "\n",
      "1. A close-up of a domestic cat's face, with the eyes and nose filling the entire frame, and the background a soft, blurred blur. The cat's whiskers are prominent, and the texture of its fur is visible.\n",
      "\n",
      "2. A wide-angle shot of a domestic dog standing in a large, empty room, with the dog's face at the center of the frame but still relatively small compared to the surrounding space. The room is minimalist, with a few pieces of furniture in the background, and a large window on the opposite side of the room.\n",
      "\n",
      "3. A highly detailed, extreme close-up of a wild cat's whiskers, with the individual hairs visible and the surrounding fur blurred. The background is a soft, gradient blur that doesn't compete with the cat's features.\n",
      "\n",
      "4. A panoramic view of a wildlife reserve, with a large herd of wild animals (including dogs and cats) spread out across the landscape. The animals are small in the frame, and the focus is on the sweeping vista of the reserve.\n",
      "\n",
      "5. A highly zoomed-in shot of a dog's ear, with the individual hairs and texture of the ear visible. The background is a soft, blurred blur that doesn't compete with the ear's features.\n",
      "\n",
      "6. A wide-angle shot of a cat perched on a branch high up in a tree, with the cat's face at the center of the frame but still relatively small compared to the surrounding foliage. The tree is lush and green, with leaves and branches stretching out in all directions, and the sun shining through the leaves to create dappled shadows.\n",
      "To evaluate the risk of the model incorrectly predicting domestic cats as wild cats, I've generated six detailed prompts to create synthetic images that might trigger this issue. Each prompt is tailored to highlight different characteristics that might lead the model to misclassify a domestic cat as a wild cat.\n",
      "\n",
      "1. A Bengal domestic cat with a distinctive spotted coat pattern and bright, golden eyes, posing in a sun-drenched savannah landscape with acacia trees and a distant rocky outcropping. The cat is in a relaxed, natural posture, with its tail wrapped around its body.\n",
      "\n",
      "2. A domestic cat with the appearance of a Savannah, featuring a striking mix of brown and gray fur with distinctive rosettes, standing on a rocky outcropping overlooking a vast, open plain. The cat's ears are perked up, and its eyes are fixed intently on some distant point.\n",
      "\n",
      "3. A Toyger domestic cat with a coat resembling that of a tiger, featuring dark stripes on a golden background, sitting in a lush, tropical jungle environment. The cat is surrounded by dense foliage and large, ancient trees, with a faint mist rising from the forest floor.\n",
      "\n",
      "4. A domestic cat with the appearance of a Bengal, featuring a coat with a mix of brown and gray stripes, standing in a dense thicket of bushes and vines. The cat's eyes are narrowed, and its ears are folded back, giving it a stealthy, wild appearance.\n",
      "\n",
      "5. A domestic cat with the appearance of a Savannah, featuring a coat with a mix of brown and gray fur and distinctive rosettes, perched on a branch high above a dense jungle floor. The cat's eyes are fixed intently on some distant point, and its tail is extended behind it.\n",
      "\n",
      "6. A domestic cat with the appearance of a Bengal, featuring a coat with a distinctive spotted pattern and bright, golden eyes, walking through a dense, misty forest environment. The cat's ears are perked up, and its tail is extended behind it, giving it a confident, wild appearance.\n",
      "Here are six prompts to generate synthetic images that can test the risk of domestic dogs being misclassified as wild dogs:\n",
      "\n",
      "1. A majestic Alaskan Malamute with a thick, fluffy coat of gray fur, standing proudly Comcast with its head held high. The Malamute is looking directly at the camera with its piercing brown eyes, showcasing its powerful features.\n",
      "\n",
      "2. A Tamaskan dog with a wolf-like appearance, sitting in a forest clearing surrounded by tall trees. The Tamaskan is gazing into the distance with an inquisitive expression, its eyes a deep shade of yellow, and its fur a mixture of gray and white hues.\n",
      "\n",
      "3. A large, muscular dog with a thick coat of brown fur, resembling a wolf. The dog is running freely in a mountainous terrain, its paws pounding against the rocky ground. The camera is capturing the dog from behind, highlighting its powerful build and agility.\n",
      "\n",
      "4. A domestic dog with a wolf-like appearance, standing in a snowy landscape with a frozen lake in the background. The dog's fur is a mix of white and gray, and it's looking directly at the camera with a curious expression.\n",
      "\n",
      "5. A dog with a thick, black coat and piercing yellow eyes, resembling a wild dog. The dog is sitting in a dense forest, surrounded by tall trees and undergrowth. It's looking directly at the camera, showcasing its powerful features and wolf-like appearance.\n",
      "\n",
      "6. A dog with a thick, gray coat and a mix of brown and white markings, resembling a wild dog. The dog is running in a park, surrounded by trees and a few people in the background. The camera is capturing the dog from the side, highlighting its speed and agility.\n",
      "\n",
      "These prompts aim to create synthetic images that can test the risk of domestic dogs being misclassified as wild dogs, while also ensuring that the images are of high quality and visually appealing.\n",
      "Here are six detailed prompts to generate synthetic images that can test the risk of domestic cats being misclassified as other animals:\n",
      "\n",
      "1. A domestic cat with the facial structure and whiskers of a feline, but the ears of a rabbit, with long, fluffy ears that are slightly oversized and perked up, as if listening for something. The cat is sitting on a windowsill, looking out at the garden with a curious expression.\n",
      "\n",
      "2. A domestic cat with a short, smooth coat, but the nose802 and mouth of a fox, with a pink, button nose and a small, pink mouth. The cat is lastIndex lying on a soft cushion, with its paws tucked under its body and a relaxed expression.\n",
      "\n",
      "3. A domestic cat with the eyes of a lion, with golden, almond-shaped eyes and a regal expression. The cat is standing on a rocky outcropping, looking out over a vast savannah with a commanding presence.\n",
      "\n",
      "4. A domestic cat with the fur of aATEGY bear, with thick, shaggy fur and a distinctive V-shaped white marking on its chest. The cat is walking through a forest, its paws quiet on the leaf-covered ground and its head held high.\n",
      "\n",
      "5. A domestic cat with the tail of a monkey, with a long, prehensile tail that is wrapped around a branch. The cat is sitting in a tree, looking out over a jungle landscape with a mischievous grin.\n",
      "\n",
      "6. A domestic cat with the snout of a pig, with a short, upturned snout and a pair of small tusks.518 The cat is rooting around in a garden, its snout digging into the soil and its ears perked up in excitement.\n",
      "Here are six detailed prompts to generate synthetic images that can test the risk of domestic dogs resembling other animals, such as Tibetan Mastiffs or Panda Dogs:\n",
      "\n",
      "1. A Tibetan Mastiff-like dog with a shaggy, dark brown coat and a distinctive black mask on its face, standing in a snow-covered mountain landscape with towering peaks and a frozen lake in the background. The dog's ears are folded back, and its tongue is lolling out of its mouth as it gazes out at the breathtaking view.\n",
      "\n",
      "2 закрытA dog with a fluffy, cream-colored coat and black markings that resemble a panda's distinctive fur pattern, sitting in a serene garden surrounded by blooming flowers and a tranquil pond. The dog's eyes are closed, and its paws are tucked under its body as it enjoys the peaceful atmosphere.\n",
      "\n",
      "3A large, muscular dog with a dark gray coat and a distinctive \"mask\" of black fur around its eyes, standing on a rocky outcropping overlooking a vast, open plain. The dog's ears are perked up, and its tail is held high as it gazes out at the endless expanse of grasslands.\n",
      "\n",
      "4A dog with a shaggy, golden coat and a wispy beard, sitting in a cozy cabin surrounded by warm lighting and rustic furnishings. The dog's ülkü eyes are closed, and its paws are tucked under its body as it enjoys a nap in front of a crackling fireplace.\n",
      "\n",
      "5A dog with a sleek, black coat and a distinctive \"panda-like\" marking on its chest, running through a lush forest with towering trees and a carpet of soft, green moss. The dog's ears are perked up, and its tail is held high as it chases after a squirrel through the underbrush.\n",
      "\n",
      "6A dog with a fluffy, white coat and a distinctive \"Mastiff-like\" wrinkled face, standing sanctuaries in front of a stunning waterfall with a lush, green forest in the background. The dog's tongue is lolling out of its mouth, and its ears are folded back as it gazes out at the breathtaking scenery.\n",
      "\n",
      "These prompts are designed to generate synthetic images that resemble domestic dogs with distinctive markings or features that might cause the model to incorrectly predict the animal as something else.\n",
      "Here are six detailed prompts to generate images that test the risk of \"Painted cats and dogs to look like other animals\":\n",
      "\n",
      "1. A domestic cat with the face of a lion, sitting on a windowsill with a sunbeam streaming in through the glass. The cat's fur is a warm, golden color, and its whiskers are long and flowing, giving it a regal, majestic appearance.\n",
      "\n",
      "2. A domestic dog with the face of a wolf, standing in a park with a backdrop of tall trees and a blue sky with puffy white clouds. The dog's fur is a thick, grey coat with a bushy tail, and its eyes are a piercing yellow, giving it a wild, untamed look.\n",
      "\n",
      "3. A wild cat with the face of a domestic cat, perched on a branch of a tree in a dense jungle. The cat's fur is a mottled brown and grey, and its eyes are a piercing green, but its face is unmistakably that of a domestic cat, with a rounded nose and a short, stubby tail.\n",
      "\n",
      "4. A domestic dog with the face of a bear, sitting on a couch with a book in its paw. The dog mutations is a large, fluffy coat with a short, stubby tail, and its eyes are a warm, brown color, giving it a friendly, cuddly appearance.\n",
      "\n",
      "5. A wild cat with the face of a domestic cat, but with the body of a cheetah. The cat's fur is a sleek, tawny coat with black spots, and its eyes are a piercing yellow, but its face is unmistakably that of a domestic cat, with a rounded nose and a short, stubby tail.\n",
      "\n",
      "6. A domestic dog with the face of a hyena, standing in a field with a backdrop of rolling hills and a blue sky with puffy white clouds. The dog's fur is a shaggy, brown coat with a long, pointed snout, and its eyes are a beady, black color, giving it a mischievous, cunning look.\n",
      "Here are six detailed prompts to generate images that can test the risk of cats and dogs being misclassified due to wearing other animal costumes, sunglasses, hats, and scarves:\n",
      "\n",
      "1. A domestic cat wearing a miniature lion's mane costume, sitting on a windowsill in a cozy living room with a view of a city skyline. The cat's face is visible, with the lion's mane covering its ears and the back of its head. The lighting is soft and natural, with a warm glow from the window.\n",
      "\n",
      "2. A domestic dog wearing a bright red superhero cape and a pair of sunglasses, sitting on a grassy lawn in a suburban backyard. The dog's face is visible, with the cape flowing behind it and the sunglasses perched on its nose. The lighting is bright and sunny, with a few fluffy white clouds in the sky.\n",
      "\n",
      "3. A wild cat (such as a leopard or jaguar) wearing a fedora hat and a colorful scarf, lounging in a tree branch in a dense jungle. The cat's face is visible, with the hat and scarf adding a touch of whimsy to its appearance. The lighting is dappled and shaded, with a few shafts of sunlight breaking through the foliage.\n",
      "\n",
      "4. A domestic dog wearing a pair of novelty cat ears and a matching tail, sitting in a dog bed in a modern living room. The dog's face is visible, with the cat ears and tail adding a playful touch to its appearance. The lighting is soft and modern, with a few colorful throw pillows and a sleek coffee table in the background.\n",
      "\n",
      "5. A wild dog (such as a wolf or fox) wearing a pair of sunglasses and a bandana, running through a snowy forest. The dog's face is visible, with the sunglasses and bandana adding a touch of ruggedness to its appearance. The lighting is bright and snowy, with a few snow-covered trees in the background.\n",
      "\n",
      "6. A domestic cat wearing a miniature tiger's headpiece and a pair of sparkly eye masks, sitting on a velvet cushion in a luxurious bedroom. The cat's face is visible, with the tiger headpiece and eye masks adding a touch of glamour to its appearance. The lighting is soft and romantic, with ajk few candles and a plush area rug in the background.\n",
      "Here are 6 detailed prompts to generate images that can test the risk of Wild animals and cats holding tennis balls in their mouth:\n",
      "\n",
      "1. A domestic cat sitting on a windowsill, looking directly at the camera with a tennis ball held gently in its mouth. The background is a warm, cozy living room with soft cushions and a few toys scattered around. The lighting is soft, with a gentle glow from a nearby lamp.\n",
      "\n",
      "2. A curious domestic dog, its tongue lolling out of its mouth, holding a tennis ball in its jaws as it looks up at its owner, who is standing in the background with a treat in hand. The scene is set in a backyard with a few trees and a sunny sky.\n",
      "\n",
      "3. A majestic lion, its mane a fiery halo, proudly holding a tennis ball in its mouth as it gazes directly at the camera. The background is a savannah landscape with acacia trees and a few distant hills, with the sun setting behind the lion's head.\n",
      "\n",
      "4. A sleek black leopard, its spots glistening in the sunlight, holding a tennis ball in its mouth as it pads through a dense forest, its eyes fixed intently on the camera. The background is a misty, emerald green forest with ferns and vines crawling up the trees.\n",
      "\n",
      "5. A playful domestic cat, its whiskers twitching with excitement, holding a tennis ball in its mouth as it leaps through the air, pouncing on an invisible toy. The background is a bright, colorfulantanamo playroom with toys and scratching posts scattered around.\n",
      "\n",
      "6. A regal Siberian tiger, its fur a rich, burnished gold, holding a tennis ball in its mouth as it looks directly at the camera, its eyes piercing and intense. The background is a misty, snow-covered forest with towering trees and a few distant peaks, with the sun shining down through the mist.\n",
      "Here are six detailed prompts to generate images that can test the risk of cats and dogs with collars or leiểmes:\n",
      "\n",
      "1. **Domestic Dog with Collar**: A happy golden retriever sitting on a plush, cream-colored couch in a cozy living room, wearing a bright red collar with a shiny name tag. The room is filled with warm, natural light, and there are family photos on the walls.\n",
      "\n",
      "2. ** Our domestic cat, wearing a sparkly collar, is perched on a windowsill in a sunny, modern apartment. The cat is gazing out the window, where a few birds are flitting about in the trees outside. The background is a blurred, soft focus, emphasizing the cat's face and the collar.\n",
      "\n",
      "3. **Wildlife (Big Cat) with Leash**: A majestic, tawny-colored lion is walking alongside its handler in a vast, open savannah. The lion is wearing a sturdy, leather leash, and its handler is smiling and speaking to it in a gentle, soothing voice. The sun is shining down, casting a warm glow over the scene.\n",
      "\n",
      "4. **Domestic Dog on a Leash**: A playful, energetic beagle is walking on a leash, its owner smiling and laughing as they stroll through a busy, urban park. The background is a blur of people and trees, while the dog's face and the leash are in sharp focus.\n",
      "\n",
      "5. **Wildlife (Small Cat) with Collar**: A tiny, grey-and-white feral cat is perched on a rocky outcropping in a desert landscape, wearing a small, shiny collar. The cat رفlooks out over the arid terrain, where cacti and scrubby bushes stretch out as far as the eye can see.\n",
      "\n",
      "6. **Domestic Cat on a Leash**: A regal, black cat is being walked on a leash by its owner in a quiet, upscale neighborhood. The cat is strolling along, its tail held high, as it sniffs at the flowers and trees. The background is a soft, muted focus, emphasizing the cat's elegant features and the leash.\n",
      "Here are 6 detailed prompts to generate images that can test the risk of unusual lighting or shadows, specifically silhouettes:\n",
      "\n",
      "1. A domestic cat sitting on a windowsill, looking directly at the camera. The window behind the cat is open, with a full moon shining brightly outside, casting a silver glow on the cat's face and creating a striking silhouette against the bright moonlit background.\n",
      "\n",
      "2. A wild tiger's face, with the sun setting behind it, casting a warm orange glow on the tiger's fur. The tiger's eyes are fixed on the camera, and the background is a dark, misty forest, with the sun's rays breaking through the trees to create a dramatic silhouette effect.\n",
      "\n",
      "3. A domestic dog standing in front of a bright, colorful mural, with the dog's face and body illuminated by the vibrant colors. However, the background is dark, with the mural's edges creating a sharp silhouette against the blackness, and the dog's features are highlighted against the bright colors.\n",
      "\n",
      "4. A cat's face, with a shaft of light shining down from above, creating a sharp, black silhouette against the bright, white light. The background is a blurred, out-of-focus mess of colors, adding to the sense of depth and dimensionality.\n",
      "\n",
      "5. A wild wolf's face, with the sun rising behind it, casting a warm, golden light on the wolf's fur. The wolf's eyes are fixed on the camera, and the background is a dark, misty forest, with the sun's rays breaking through the trees to create a dramatic silhouette effect.\n",
      "\n",
      "6. A dog sitting in front of a bright, streetlamp, with the lamp's light casting a warm, yellow glow on the dog's face. However, the background is dark, with the lamp's edges creating a sharp silhouette against the blackness, and the dog's features are highlighted against the bright light.\n",
      "\n",
      "These prompts should help to test the model's ability to handle unusual lighting or shadows, specifically silhouettes, across different classes (cats, dogs, and wildlife).\n",
      "Here are six detailed prompts to generate synthetic images that can test the risk of dogs and cats with medical injuries, such as bandages or a medical cone:\n",
      "\n",
      "1. A domestic cat sitting on a windowsill, looking out at the outdoors. The cat has a small bandage on its left ear, and its fur appears slightly disheveled as if it has just been groomed. The background is a warm, sunlit room with a few scattered toys and a scratching post.\n",
      "\n",
      "2. A playful golden retriever sitting in front of a white wall, wearing a bright red cone of shame around its neck. The dog looks up at the camera with a mischievous expression, its tail wagging slightly. The background is a simple, clean room with a few dog toys scattered around.\n",
      "\n",
      "3. A majestic African lioness sitting on a rocky outcropping, her face partially obscured by a makeshift bandage wrapped around her forehead. Her fur appears dusty and worn, and her eyes seem to hold a hint of pain. The background is a desolate, sun-scorched savannah landscape.\n",
      "\n",
      "4. A sleek black cat sitting on a plush cushion, its left paw wrapped in a small, white cast. The cat looks up at the camera with an air of nonchalance, its tail twitching slightly. The background is a cozy, dimly lit room with a few scattered books and a vase of fresh flowers.\n",
      "\n",
      "5. A rambunctious Labrador retriever sitting in front of a wooden fence, its left eye covered with a small, transparent bandage. The dog looks up at the camera with a goofy expression, its tongue lolling out of its mouth. The background is a sunny, green meadow with a few scattered wildflowers.\n",
      "\n",
      "6. A majestic tiger sitting on a tree stump, its right ear sporting a small, colorful bandage. The tiger looks up at the camera with a regal expression, its eyes seeming to hold a hint of warning. The background is a dense, misty jungle landscape with a few scattered vines and creepers.\n",
      "Here are 6 detailed prompts to generate images that can test the risk of watermarks/logos, covering all three classes (cats, dogs, and wildlife):\n",
      "\n",
      "1. **Domestic Cat**: A close-up of a domestic cat's face with a prominent logo or watermark overlaid on its forehead, partially obstructing its whiskers. The background is a simple, white or light-colored surface to draw attention to the logo. The cat's expression is calm, but slightly annoyed, as if it's trying to ignore the distracting logo.\n",
      "\n",
      "2. **Wildlife**: A majestic lion's face with a bold, colorful logo emblazoned across its mane, creating a striking visual contrast between the animal's natural fur and the artificial logo. The background is a warm, golden savannah with tall grasses and acacia trees, drawing attention to the logo's prominence.\n",
      "\n",
      "3. **Domestic Dog**: A happy, playful dog's face with a small, discreet logo or watermark embedded in the corner of its ear or near its nose. The background is a bright, sunny day with a blurred, out-of-focus image of a park or backyard, making the logo harder to notice.\n",
      "\n",
      "4. **Wild Cat**: A sleek, agile leopard's face with a stylized, abstract logo overlaid on its cheek or near its whiskers, creating a visually interesting contrast between the animal's natural features and the artificial design. The background is a dark, misty forest with tall trees and underbrush, making the logo harder to spot.\n",
      "\n",
      "5. **Domestic Cat (obstructed view)**: A domestic cat's face with a large, obtrusive logo or watermark covering a significant portion of its face, partially obstructing its eyes or mouth. The background is a cluttered, busy environment with multiple objects and textures competing for attention.\n",
      "\n",
      "6. **Wild Dog**: A pack of wild dogs, such as wolves, with a prominent logo or watermark emblazoned across their collective fur, creating a striking visual effect. The background is a dramatic, snowy landscape with towering mountains and a misty atmosphere, making the logo stand out against the natural scenery.\n",
      "Here are six prompts to generate synthetic images that can test the risk of low resolution images, with a focus on animal faces facing the camera:\n",
      "\n",
      "1. A domestic cat sitting on a windowsill, looking directly at the camera with its face partially in shadow, surrounded by a blurred, out-of-focus background. The image is rendered with a low resolution of 320x240 pixels, with pixelation and artifacts visible in the cat's fur and facial features.\n",
      "\n",
      "2. A close-up of a dog's face, with its eyes, nose, and mouth clearly visible, but the surrounding image is blurred and distorted, as if it were taken from a low-resolution video feed. The dog is sitting in a well-lit room with a plain white background.\n",
      "\n",
      "3. A wild cat, such as a leopard or jaguar, gazing directly at the camera with its face illuminated by a warm, golden_iface. The image is rendered with a low resolution of 640x480 pixels, with visible pixelation and artifacts in the cat's fur and whiskers.\n",
      "\n",
      "4. A dog sitting on a couch, looking directly at the camera with its face partially in focus, while the surrounding furniture and background are blurred and out of focus. The image is rendered with a low resolution of 800x600 pixels, with visible pixelation and artifacts in the dog's fur and facial features.\n",
      "\n",
      "5. A close-up of a cat's face, with its eyes, nose, and mouth clearly visible, but the surrounding image is distorted and warped, as if it were taken from a low-resolution security camera. The cat is sitting in a dimly lit room with a plain gray background.\n",
      "\n",
      "6. A wildlife scene featuring a group of birds perched on a branch, with one bird looking directly at the camera with its face clearly visible. The image is rendered with a low resolution of 1024x768 pixels, with visible pixelation and artifacts in the birds' feathers and facial features. The surrounding background is blurred and out of focus.\n",
      "Here are six detailed prompts to generate synthetic images that can test the risk of infant or juvenile animals:\n",
      "\n",
      "1. A playful domestic cat kitten sitting on a windowsill, looking out at the viewer with big, round eyes and a curious expression. The kitten's fur is soft and fluffy, and its ears are still slightly rounded from its juvenile stage. The background is a bright, sunny room with a few toys scattered around.\n",
      "\n",
      "2. A domestic dog puppy lying on a plush carpet, its paws waving gently in the air as it chases after an imaginary toy. The puppy's face is filled with excitement and energy, with a few baby teeth visible in its mouth. The background is a cozy living room with a few dog toys and a window with a view of a sunny garden.\n",
      "\n",
      "3. A young African lion cub sitting on a rocky outcropping, looking directly at the viewer with a bold expression. The cub's fur is a mix of golden and tawny colors, and its eyes are a bright, piercing yellow. The background is a savannah landscape with acacia trees and a few distant animals roaming in the distance.\n",
      "\n",
      "4. A domestic cat kitten perched on a branch, its tail twitching back and forth as it watches a bird outside the window. The kitten's face is filled with concentration and curiosity, and its ears are perked up in attention. The background is a bright, sunny garden with a few flowers and a bird feeder.\n",
      "\n",
      "5. A young wolf pup sitting on a snowy bank, looking up at the viewer with a shy expression. The pup's fur is a thick, gray coat with a few white markings, and its eyes are a bright, piercing yellow. The background is a winter landscape with snow-covered trees and a few distant animals roaming in the distance.\n",
      "\n",
      "6. A domestic dog puppy sitting on a beach, looking out at the ocean with a sense of wonder and excitement. The puppy's face is filled with joy and energy, and its fur is a mix of sandy and golden colors. The background is a sunny beach scene with a few seagulls flying overhead and a few beach toys scattered around.\n",
      "\n",
      "These prompts aim to capture the unique facial features and expressions of infant and juvenile animals, which may differ from those of ابتد adult animals. By generating synthetic images that showcase these characteristics, we can test the classifier's ability to accurately identify animals at different stages of development.\n",
      "To generate images that test the risk of unusual or creative use of color, I've designed the following 6 detailed prompts:\n",
      "\n",
      "1. A close-up shot of a domestic cat's face, but with a neon pink and green filter applied to the image, making the cat's fur look like it's glowing. The background is a deep, rich purple, and the cat's eyes are a bright, electric blue. The overall effect is a surreal and eye-catching visual.\n",
      "\n",
      "2. A wild dog's face, but with a watercolor-inspired filter applied, making the image look like it was painted with soft, blended brushstrokes. The dog's fur is a warm, golden brown, and its eyes are a deep, rich brown. The background is a soft, feathery white, giving the image a dreamy, ethereal quality.\n",
      "\n",
      "3. A domestic dog's face, but with a black and white image with bold, graphic lines and shapes added to give it a stylized, comic book look. The dog's fur is a crisp, white, and its eyes are a bright, bold black. The background is a deep, inky black, with bold, colorful shapes and patterns added to give the image a dynamic, energetic feel.\n",
      "\n",
      "4. A cat's face, but with a bold, bright color scheme applied, with the cat's fur a vibrant, electric blue and its eyes a bright, sunshine yellow. The background is a deep, rich red, and the overall effect is a jarring, eye-searing visual that challenges the model to classify the image accurately.\n",
      "\n",
      "5. A wildlife image of a tiger's face, but with a muted, desaturated color scheme applied, making the image look like it was taken in a dull, overcast light. The tiger's fur is a dull, mottled brown, and its eyes are a deep, rich gray. The background is a soft, feathery gray, giving the image a somber, melancholy feel.\n",
      "\n",
      "6. A dog's face, but with a kidn of image that is mostly black, but has a few splashes of bright, neon colors. The dog's fur is black, but has a few bright, glowing blue and green highlights, and its eyes are a deep, rich brown with a bright, electric blue glow. The background is a deep, inky black, with a few splashes of bright, colorful shapes and patterns added to give the image afitness, dynamic\n",
      "Here are 6 detailed prompts to generate images which can test the risk of \"Images with multiple animals in the same scene: Images may contain multiple animals in the same scene from the same class.\"\n",
      "\n",
      "1. **Cats**: A cozy, sun-drenched windowsill in a warm, inviting home. Three domestic cats are lounging together, each one in a different pose: one is curled up in a ball, another is stretching out a long, languid limb, and the third is gazing out the window with a look of curiosity.\n",
      "\n",
      "2. **Dogs**: A lively, bustling dog park with a group of playful domestic dogs running and chasing each other in a joyful melee. The dogs are of different breeds and sizes, but all are excitedly interacting with one another, their tails wagging furiously as they play and frolic in the sun.\n",
      "\n",
      "3. **Wildlife**: A lush, tropical jungle with a group of playful leopards lounging in the shade of a massive tree. The leopards are all different ages and sizes, but they're all interacting with one another, chasing each other through the underbrush or curled up together in a cozy heap.\n",
      "\n",
      "4. **Cats**: A serene, moonlit garden with three sleek black cats stalking through the shadows, their eyes glowing in the dark. Each cat is in a different pose, one is stalking prey, another is pouncing on a toy, and the third is simply observing the scene with an air of calm, feline detachment.\n",
      "\n",
      "5. **Dogs**: A lively, colorful festival with a group of playful dogs from different breeds and sizes all gathered together, their owners cheering them on as they participate in a fun dog agility course. The dogs are all running, jumping, and playing together, their tails wagging furiously as they compete and interact with one another.\n",
      "\n",
      "6. **Wildlife**: A breathtaking, snow-covered mountain landscape with a group of majestic snow leopards roaming through the pristine white landscape. The leopards are all different ages and sizes, but they're all interacting with one another, chasing each other through the snow or curled up together in a cozy heap, their fur fluffed up against the cold.\n"
     ]
    }
   ],
   "source": [
    "for r in responses:\n",
    "    print(r)"
   ]
  },
  {
   "cell_type": "code",
   "execution_count": 13,
   "metadata": {},
   "outputs": [
    {
     "data": {
      "text/plain": [
       "{'generated_text': [{'role': 'system',\n",
       "   'content': 'You are an image generation prompt engineer. You are designing a prompt to generate synthetic images to evaluate an image classifier.'},\n",
       "  {'role': 'user',\n",
       "   'content': '\\nThe classifier is a dog, cat and wildlife classifier. It is trained on a dataset containing 15803 images of domestic dog, domestic cat, and wild dog and cats species, from the animal faces V2 dataset. All the images in this dataset are of animals faces looking towards the camera, and synthetic images should mostly be of animal faces facing the camera, unless a risk specifically states otherwise.\\nA specialist has generated a risk in which they expect the model may incorrectly predict an image. \\nFrom this risk, you are to generate 6 detailed prompts to generate images which can test these risks. When a risk is not specific to a particular class, ensure there are prompts within your response for cats, dogs and wildlife.\\n\\nFor example, if the risk is \"Images not containing a face, just an empty background\", you would generate the following response:\\n\\n1. A peaceful forest with tall, slender trees allowing dappled sunlight to filter through their leaves. The ground is covered in soft, green moss and small wildflowers, with a gentle mist hovering in the background, creating an ethereal and serene atmosphere.\\n\\n2. A winding path in a park lined with mature trees whose leaves have turned vibrant shades of orange, red, and gold. Fallen leaves scatter the ground, and soft, warm light bathes the scene, giving it a cozy, nostalgic feel.\\n\\n3. A calm lakeside view at sunset, with the water reflecting the pink, purple, and orange hues of the sky. The background includes distant hills and a few silhouetted trees, while the foreground has soft grasses and a few rocks near the shore.\\n\\n4. A dense woodland with towering trees covered in thick, emerald green ivy. The forest floor is carpeted with ferns and dotted with clusters of colorful mushrooms, and shafts of light break through the canopy, casting a magical glow across the scene.\\n\\n5. A tranquil urban garden surrounded by stone walls covered in ivy. The garden is lush with blooming flowers in various colors, a small fountain trickling in the background, and a wooden bench under an archway of climbing roses. The light is soft, with hints of morning dew sparkling on the plants. \\n\\n6. A mountain range behind a large city park. There are giant tress, a small lake and birds flying in the foreground, with large snow covered peaks in the distance. The weather is sunny.  \\n\\nGenerate 6 prompts for the following risk: Images with multiple animals in the same scene: Images may contain multiple animals in the same scene from the same class.\\n'},\n",
       "  {'role': 'assistant',\n",
       "   'content': 'Here are 6 detailed prompts to generate images which can test the risk of \"Images with multiple animals in the same scene: Images may contain multiple animals in the same scene from the same class.\"\\n\\n1. **Cats**: A cozy, sun-drenched windowsill in a warm, inviting home. Three domestic cats are lounging together, each one in a different pose: one is curled up in a ball, another is stretching out a long, languid limb, and the third is gazing out the window with a look of curiosity.\\n\\n2. **Dogs**: A lively, bustling dog park with a group of playful domestic dogs running and chasing each other in a joyful melee. The dogs are of different breeds and sizes, but all are excitedly interacting with one another, their tails wagging furiously as they play and frolic in the sun.\\n\\n3. **Wildlife**: A lush, tropical jungle with a group of playful leopards lounging in the shade of a massive tree. The leopards are all different ages and sizes, but they\\'re all interacting with one another, chasing each other through the underbrush or curled up together in a cozy heap.\\n\\n4. **Cats**: A serene, moonlit garden with three sleek black cats stalking through the shadows, their eyes glowing in the dark. Each cat is in a different pose, one is stalking prey, another is pouncing on a toy, and the third is simply observing the scene with an air of calm, feline detachment.\\n\\n5. **Dogs**: A lively, colorful festival with a group of playful dogs from different breeds and sizes all gathered together, their owners cheering them on as they participate in a fun dog agility course. The dogs are all running, jumping, and playing together, their tails wagging furiously as they compete and interact with one another.\\n\\n6. **Wildlife**: A breathtaking, snow-covered mountain landscape with a group of majestic snow leopards roaming through the pristine white landscape. The leopards are all different ages and sizes, but they\\'re all interacting with one another, chasing each other through the snow or curled up together in a cozy heap, their fur fluffed up against the cold.'}]}"
      ]
     },
     "execution_count": 13,
     "metadata": {},
     "output_type": "execute_result"
    }
   ],
   "source": [
    "outputs[0]"
   ]
  }
 ],
 "metadata": {
  "kernelspec": {
   "display_name": "Python 3",
   "language": "python",
   "name": "python3"
  },
  "language_info": {
   "codemirror_mode": {
    "name": "ipython",
    "version": 3
   },
   "file_extension": ".py",
   "mimetype": "text/x-python",
   "name": "python",
   "nbconvert_exporter": "python",
   "pygments_lexer": "ipython3",
   "version": "3.11.3"
  }
 },
 "nbformat": 4,
 "nbformat_minor": 2
}
