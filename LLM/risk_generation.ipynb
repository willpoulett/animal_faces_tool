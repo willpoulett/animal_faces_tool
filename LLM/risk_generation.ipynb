{
 "cells": [
  {
   "cell_type": "code",
   "execution_count": null,
   "metadata": {},
   "outputs": [],
   "source": [
    "from huggingface_hub import notebook_login\n",
    "notebook_login()"
   ]
  },
  {
   "cell_type": "code",
   "execution_count": 3,
   "metadata": {},
   "outputs": [],
   "source": [
    "instructions_1 = \"\"\"The classifier is a dog, cat and wildlife classifier. It is trained on a dataset containing 15803 images of domestic dog, domestic cat, and wild dog and cats species, from the animal faces V2 dataset. All the images in this dataset are of animals faces looking towards the camera. \n",
    "The model was trained by transfer learning on top of the EfficientNetV2S model, with ImageNet weights. These are frozen, and additional layers are appended to the model to allow for multiclass classification. Within these layers include two convolutional blocks, each comprising convolutional, batch normalization, and activation layers followed by global average pooling. Following these are two fully connected layers with batch normalization, activation, and dropout layers. The final output layer uses a softmax activation function to produce class probabilities, where the class is either dog, cat or wildlife. The model is compiled using the RMSprop optimizer and categorical cross-entropy loss, with categorical accuracy as the evaluation metric. \n",
    "The model was trained on a large dataset of 14336 images, with 5065, 4678 and 4593 images for cats, dogs and wildlife respectively. It was trained for 5 epochs, with the final epoch performing best on the validation data with 99.72% accuracy. \n",
    "The test set is already separated in the animal faces dataset. It contains 1467 images, with 493, 491 and 483 images for cats, dogs and wildlife respectively. The model performed incredibly well with 99.8% accuracy. The precision for the cat and dog class was perfect. The only incorrect classifications were 3 images, all predicted as a wild animal when their label was either a cat or a dog. \n",
    "Of the three images incorrectly classified, the first image is likely a clouded leopard, meaning that the model’s prediction would be correct as this is a wild animal. The second image is a dog, meaning the model is wrong in this case. Finally, the last image contains many wolf-like features, despite being labelled as a dog. \n",
    "Your task is to write a list of likely image scenarios in which the model may incorrectly predict the image. We know that AI image classifiers can sometimes incorrectly associate specific features with a class due to biased training data. For example, consider our dog-cat-wildlife classifier, if a model is frequently exposed to images of dogs holding tennis balls, it may incorrectly learn to predict any image with a tennis ball as a dog, even if the subject is a cat.\n",
    "Following this example, one item in the list you return could be:\n",
    "-\tWild animals and cats holding tennis balls in their mouth may be incorrectly predicted as dogs as this is a common behaviour that only dogs’ typically exhibit. \n",
    "Another item could be:\n",
    "-\tA user may not use the classifier correctly in the future. As the animal faces are all staring directly at the camera, the model may perform badly on animals facing away from the camera. \n",
    "Your output should be in the form of a bullet pointed list. Prioritise the top 50 risks you can think of. Do not give more than 50 risks.\n",
    "\"\"\""
   ]
  },
  {
   "cell_type": "code",
   "execution_count": 5,
   "metadata": {},
   "outputs": [
    {
     "name": "stderr",
     "output_type": "stream",
     "text": [
      "c:\\Users\\Will Poulett\\AppData\\Local\\Programs\\Python\\Python311\\Lib\\site-packages\\accelerate\\utils\\modeling.py:1384: UserWarning: Current model requires 4224 bytes of buffer for offloaded layers, which seems does not fit any GPU's remaining memory. If you are experiencing a OOM later, please consider using offload_buffers=True.\n",
      "  warnings.warn(\n"
     ]
    },
    {
     "data": {
      "application/vnd.jupyter.widget-view+json": {
       "model_id": "ea1773fb18e24959a353a59713f35ad4",
       "version_major": 2,
       "version_minor": 0
      },
      "text/plain": [
       "Loading checkpoint shards:   0%|          | 0/4 [00:00<?, ?it/s]"
      ]
     },
     "metadata": {},
     "output_type": "display_data"
    },
    {
     "name": "stderr",
     "output_type": "stream",
     "text": [
      "Setting `pad_token_id` to `eos_token_id`:128001 for open-end generation.\n"
     ]
    },
    {
     "name": "stdout",
     "output_type": "stream",
     "text": [
      "Here's a list of 50 likely image scenarios where the model may incorrectly predict the image:\n",
      "\n",
      "$page 1/2\n",
      "• Wild animals and cats holding tennis balls in their mouth may be incorrectly predicted as dogs as this is a common behaviour that only dogs typically exhibit.\n",
      "• Cats and dogs with collars or leashes may be incorrectly predicted as the other class, as this is a common accessory associated with domestic pets.\n",
      "• Animals with unusual or creative hairstyles may be misclassified due to the model's focus on facial features.\n",
      "• Images of animals in motion or with blurred faces\"` may be incorrectly predicted due to the model's reliance on clear, static images.\n",
      "• Cats and dogs with sunglasses or other face coverings may be misclassified due to the model's inability to recognize facial features.\n",
      "• Images with unusual lighting or shadows may be incorrectly predicted due to the model's sensitivity to lighting conditions.\n",
      "• Animals with medical conditions or injuries may be misclassified due to the model's reliance on healthy, normal facial features.\n",
      "• Images with watermarks or logos may be incorrectly predicted販売 due to the model],\n",
      "• Animals with unusual or creative accessories, such as hats or scarves, may be misclassified due to the model's focus on facial features.\n",
      "• Images with multiple animals in the same scene may be incorrectly predicted due to the model's focus on individual faces.\n",
      "• Animals with unusual or creative poses may be misclassified due to the model's reliance on standard, frontal-facing images.\n",
      "• Images with text or other overlays may be incorrectly predicted due to the model's inability to recognize non-image data.\n",
      "• Cats and dogs with unusual or creative facial expressions may be misclassified due to the model's focus on standard, neutral expressions.\n",
      "• Images with low resolution or pixelation may be Yellow incorrectly predicted due to the model's reliance on clear, high-quality images.\n",
      "• Animals with unusual or creative backgrounds may be misclassified due to the model's focus on the animal's face.\n",
      "• Images with multiple objects or scenes in the background may be incorrectly predicted due to the model's focus on the animal's face.\n",
      "• Cats and dogs with unusual or creative ears may be misclassified due to the model's reliance on standard, normal ear shapes and sizes.\n",
      "• Images with unusual or creative textures or patterns may be incorrectly predicted due to the model's focus on facial features.\n",
      "• Animals with unusual or creative whiskers may be misclassified due to the model's reliance on standard, normal whisker lengths and shapes.\n",
      "• Images with unusual or creative nose shapes or sizes may be incorrectly predicted due to the model's focus on facial features.\n",
      "• Cats and dogs with unusual or creative eye shapes or sizes may be misclassified due to the model's reliance on standard, normal eye features.\n",
      "• Images with unusual or creative mouth shapes or sizes may be incorrectly predicted due to the model's focus on facial features.\n",
      "• Animals with unusual or creative facial hair may be misclassified due to the model's reliance on standard, normal facial features.\n",
      "• Images with unusual or creative hairstyles may be incorrectly predicted due to the model's focus on facial features.\n",
      "• Cats and dogs with unusual or creative collars or leashes may be misclassified due to the model's focus on standard, normal accessories.\n",
      "• Images with unusual or creative backgrounds may be incorrectly predicted due to the model's focus on the animal's face.\n",
      "• Animals with unusual or creative poses may be misclassified due to the model's reliance on standard, frontal-facing images.\n",
      "• Images with multiple objects or scenes in the background may be incorrectly predicted due to the model's focus on the animal's face.\n",
      "• Cats and dogs with unusual or creative ears may be misclassified due to the model's reliance on standard, normal ear shapes and sizes.\n",
      "• Images with unusual or creative textures or patterns may be incorrectly predicted due to the model's focus on facial features.\n",
      "• Animals with unusual or creative whiskers may be misclassified due to the model's reliance on standard, normal whisker lengths and shapes.\n",
      "• Images with unusual or creative nose shapes or sizes may be incorrectly predicted due to the model's focus on facial features.\n",
      "• Cats and dogs with unusual or creative eye shapes or sizes may be misclassified due to the model's reliance on standard, normal eye features.\n",
      "• Images with unusual or creative mouth shapes or sizes may be incorrectly predicted due to the model's focus on facial features.\n",
      "• Animals with unusual or creative facial hair may be misclassified due to the model's reliance on standard, normal facial features.\n",
      "• Images with unusual or creative lighting or shadows may be incorrectly predicted due to the model's sensitivity to lighting conditions.\n",
      "• Cats and dogs with unusual or creative accessories, such as hats or scarves, may be misclassified due to the model's focus on facial features.\n",
      "• Images with multiple animals in the same scene may be incorrectly predicted due to the model's focus on individual faces.\n",
      "• Animals with unusual or creative poses may be misclassified due to the model's reliance on standard, frontal-facing images.\n",
      "• Images with text or other overlays may be incorrectly predicted due to the model's inability to recognize non-image data.\n",
      "• Cats and dogs with unusual or creative facial expressions may be misclassified due to the model's focus on standard, neutral expressions.\n",
      "• Images with low resolution or pixelation may be incorrectly predicted due to the model's reliance on clear, high-quality images.\n",
      "• Animals with unusual or creative backgrounds may be misclassified due to the model's focus on the animal's face.\n",
      "• Images with multiple objects or scenes in the background may be incorrectly predicted due to the model's focus on the animal's face.\n",
      "• Cats and dogs with unusual or creative ears may be misclassified due to Markus the Identification of animal faces and classifying them into three categories of dog, cat, and wildlife based on facial features and expressions.\n"
     ]
    }
   ],
   "source": [
    "import transformers\n",
    "import torch\n",
    "\n",
    "model_id = \"meta-llama/Meta-Llama-3.1-8B-Instruct\"\n",
    "\n",
    "pipeline = transformers.pipeline(\n",
    "    \"text-generation\",\n",
    "    model=model_id,\n",
    "    model_kwargs={\"torch_dtype\": torch.bfloat16},\n",
    "    device_map=\"auto\",\n",
    ")\n",
    "\n",
    "messages = [\n",
    "    {\"role\": \"system\", \"content\": \"You are a testing and assurance specialist asked to assure an image classifier.\"},\n",
    "    {\"role\": \"user\", \"content\": instructions_1},\n",
    "]\n",
    "\n",
    "outputs = pipeline(\n",
    "    messages,\n",
    "    max_new_tokens=5000,\n",
    "    temperature = 0.7\n",
    ")\n",
    "string = outputs[0][\"generated_text\"][-1][\"content\"]\n",
    "print(string)\n"
   ]
  },
  {
   "cell_type": "code",
   "execution_count": 6,
   "metadata": {},
   "outputs": [
    {
     "name": "stderr",
     "output_type": "stream",
     "text": [
      "Setting `pad_token_id` to `eos_token_id`:128001 for open-end generation.\n"
     ]
    },
    {
     "name": "stdout",
     "output_type": "stream",
     "text": [
      "After re-examining my previous risks, I've identified some potential gaps and additional risks to consider:\n",
      "\n",
      "1. **Image editing or manipulation**: Images may be edited or manipulated to mislead the model, such as adding or removing features, altering lighting, or manipulating the background.\n",
      "2. **Similar species or breeds**: The model may struggle to differentiate between similar species or breeds, leading to incorrect classifications.\n",
      "3. **Infant or juvenile animals**: Young animals may exhibit different facial features or expressions than adults, potentially leading to misclassifications.\n",
      "4. **Cross-breed or hybrid animals**: Animals that are cross-bred or hybrid may exhibit characteristics from multiple species, making it challenging for the model to classify them accurately.\n",
      "5. **Animals with disabilities or conditions**: Animals with disabilities or conditions, such as blindness or facial deformities, may be misclassified due to the model's reliance on facial features.\n",
      "6. **Unusual or creative use of color**: Images may use unusual or creative color schemes, such as neon colors or artistic filters, which may affect the model's ability to classify the animal accurately.\n",
      "7. **Animals with unusual or creative body language**: Animals may exhibit unusual or creative body language, such as playing dead or exhibiting aggressive posturing, which may be misinterpreted by the model.\n",
      "8 Jane. **Images with intentional distractions**: Images may contain intentional distractions, such as objects or people in the background, to mislead the model and affect its classification accuracy.\n",
      "9. **Low-quality or noisy images**: Images may be low-quality or noisy, which can affect the model's ability to classify the animal accurately.\n",
      "10. **Images with unusual or creative camera angles**: Images may be taken from unusual or creative camera angles, which can affect the model's ability to classify the animal accurately.\n",
      "11. **Animals with unusual or creative habitats**: Animals may be found in unusual or creative habitats, such as urban or indoor environments, which can affect the model's ability to classify the animal accurately.\n",
      "12. **Images with multiple animals in the same scene**: Images may contain multiple animals in the same scene, which can affect the model's ability to classify the animal accurately.\n",
      "13. **Animals with unusual or creative accessories**: Animals may be wearing unusual or creative accessories, such as hats or costumes, which can affect the model's ability to classify the animal accurately.\n",
      "14. **Images with unusual or creative lighting conditions**: Images may be taken under unusual or creative lighting conditions, such as low-light or high-contrast environments, which can affect the model's ability to classify the animal accurately.\n",
      "15. **Animals with unusual or creative textures or patterns**: Animals may exhibit unusual or creative textures or patterns, such as fur or feathers, which can affect the model's ability to classify the animal accurately.\n",
      "\n",
      "These additional risks highlight the importance of considering various factors that can affect the model's performance and accuracy.\n"
     ]
    }
   ],
   "source": [
    "instructions_2 = \"\"\"\n",
    "Are there any missing risks you have not yet considered? Read your previous risks carefully and consider if there are any more. Think carefully step by step. \n",
    "\"\"\"\n",
    "messages = [\n",
    "    {\"role\": \"system\", \"content\": \"You are a testing and assurance specialist asked to assure an image classifier.\"},\n",
    "    {\"role\": \"user\", \"content\": instructions_1},\n",
    "    {\"role\": \"assistant\", \"content\": string},\n",
    "    {\"role\": \"user\", \"content\": instructions_2},\n",
    "]\n",
    "\n",
    "outputs = pipeline(\n",
    "    messages,\n",
    "    max_new_tokens=5000,\n",
    "    temperature = 0.7\n",
    ")\n",
    "string = outputs[0][\"generated_text\"][-1][\"content\"]\n",
    "print(string)"
   ]
  }
 ],
 "metadata": {
  "kernelspec": {
   "display_name": "Python 3",
   "language": "python",
   "name": "python3"
  },
  "language_info": {
   "codemirror_mode": {
    "name": "ipython",
    "version": 3
   },
   "file_extension": ".py",
   "mimetype": "text/x-python",
   "name": "python",
   "nbconvert_exporter": "python",
   "pygments_lexer": "ipython3",
   "version": "3.11.3"
  }
 },
 "nbformat": 4,
 "nbformat_minor": 2
}
