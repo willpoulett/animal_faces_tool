{
 "cells": [
  {
   "cell_type": "code",
   "execution_count": 12,
   "metadata": {},
   "outputs": [],
   "source": [
    "import os, glob\n",
    "\n",
    "edge_case_risks = [\n",
    "    \"risk_2\",\n",
    "    \"risk_3\",\n",
    "    \"risk_5\",\n",
    "    \"risk_6\",\n",
    "    \"risk_7\",\n",
    "    \"risk_8\",\n",
    "    \"risk_10\",\n",
    "    \"risk_14\",\n",
    "    \"risk_19\",\n",
    "    \"edge_case_images\"\n",
    "]\n",
    "\n",
    "image_paths = []\n",
    "\n",
    "for folder in os.listdir(\"test_images\"):\n",
    "    if folder in edge_case_risks:\n",
    "        fileList = glob.glob(f'test_images/{folder}/*')\n",
    "        image_paths.extend(fileList)"
   ]
  },
  {
   "cell_type": "code",
   "execution_count": 8,
   "metadata": {},
   "outputs": [],
   "source": [
    "import cv2\n",
    "\n",
    "images = []\n",
    "\n",
    "for path in image_paths:\n",
    "    img_arr = cv2.imread(path)\n",
    "    img_arr = cv2.cvtColor(img_arr, cv2.COLOR_BGR2RGB)\n",
    "    resized_arr = cv2.resize(img_arr, (256,256)) # Reshaping images to preferred size\n",
    "    images.append(resized_arr)"
   ]
  },
  {
   "cell_type": "code",
   "execution_count": 11,
   "metadata": {},
   "outputs": [],
   "source": [
    "for i, im in enumerate(images):\n",
    "    save_path = os.path.join(\"images_to_be_labelled\", f'image_{i+1}.jpg')\n",
    "    cv2.imwrite(save_path, cv2.cvtColor(im, cv2.COLOR_RGB2BGR))"
   ]
  },
  {
   "cell_type": "code",
   "execution_count": null,
   "metadata": {},
   "outputs": [],
   "source": []
  }
 ],
 "metadata": {
  "kernelspec": {
   "display_name": "Python 3",
   "language": "python",
   "name": "python3"
  },
  "language_info": {
   "codemirror_mode": {
    "name": "ipython",
    "version": 3
   },
   "file_extension": ".py",
   "mimetype": "text/x-python",
   "name": "python",
   "nbconvert_exporter": "python",
   "pygments_lexer": "ipython3",
   "version": "3.11.3"
  }
 },
 "nbformat": 4,
 "nbformat_minor": 2
}
