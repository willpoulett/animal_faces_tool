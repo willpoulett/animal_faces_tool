{
 "cells": [
  {
   "cell_type": "code",
   "execution_count": 3,
   "metadata": {},
   "outputs": [],
   "source": [
    "import pandas as pd"
   ]
  },
  {
   "cell_type": "code",
   "execution_count": 8,
   "metadata": {},
   "outputs": [],
   "source": [
    "data = {\n",
    "    'image_id': ['img_001', 'img_002', 'img_003', 'img_004', 'img_005'],\n",
    "    'pred': ['cat', 'dog', 'bird', 'cat', 'dog'],\n",
    "    'votes_a': [10, 15, 7, 20, 5],\n",
    "    'votes_b': [5, 10, 3, 8, 2],\n",
    "    'votes_c': [2, 1, 0, 3, 1]\n",
    "}\n",
    "\n",
    "pd.DataFrame(data).to_csv(\"test_data.csv\")"
   ]
  }
 ],
 "metadata": {
  "kernelspec": {
   "display_name": "Python 3",
   "language": "python",
   "name": "python3"
  },
  "language_info": {
   "codemirror_mode": {
    "name": "ipython",
    "version": 3
   },
   "file_extension": ".py",
   "mimetype": "text/x-python",
   "name": "python",
   "nbconvert_exporter": "python",
   "pygments_lexer": "ipython3",
   "version": "3.11.3"
  }
 },
 "nbformat": 4,
 "nbformat_minor": 2
}
