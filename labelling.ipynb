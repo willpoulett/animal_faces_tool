{
 "cells": [
  {
   "cell_type": "code",
   "execution_count": 1,
   "metadata": {},
   "outputs": [],
   "source": [
    "import pandas as pd"
   ]
  },
  {
   "cell_type": "code",
   "execution_count": 2,
   "metadata": {},
   "outputs": [],
   "source": [
    "data = {\n",
    "    'image_id': ['img_001', 'img_002', 'img_003', 'img_004', 'img_005'],\n",
    "    'pred': ['cat', 'dog', 'bird', 'cat', 'dog'],\n",
    "    'votes_a': [10, 15, 7, 20, 5],\n",
    "    'votes_b': [5, 10, 3, 8, 2],\n",
    "    'votes_c': [2, 1, 0, 3, 1]\n",
    "}\n",
    "\n",
    "pd.DataFrame(data).set_index('image_id').to_csv(\"test_data.csv\")"
   ]
  },
  {
   "cell_type": "code",
   "execution_count": 9,
   "metadata": {},
   "outputs": [],
   "source": [
    "import subprocess\n",
    "\n",
    "def add_a_vote(col, image_id):\n",
    "    df = pd.read_csv(\"test_data.csv\", index_col = \"image_id\")\n",
    "    df.at[image_id,col] += 1\n",
    "    df.to_csv(\"test_data.csv\")\n",
    "    subprocess.run([\"git\", \"pull\"])\n",
    "    subprocess.run(['git', 'add', \"test_data.csv\"], check=True)\n",
    "    subprocess.run(['git', 'commit', '-m', \"update vote\"], check=True)\n",
    "    subprocess.run([\"git\",\"push\"])\n",
    "    \n",
    "    "
   ]
  },
  {
   "cell_type": "code",
   "execution_count": 10,
   "metadata": {},
   "outputs": [
    {
     "name": "stderr",
     "output_type": "stream",
     "text": [
      "hint: You have divergent branches and need to specify how to reconcile them.\n",
      "hint: You can do so by running one of the following commands sometime before\n",
      "hint: your next pull:\n",
      "hint:\n",
      "hint:   git config pull.rebase false  # merge\n",
      "hint:   git config pull.rebase true   # rebase\n",
      "hint:   git config pull.ff only       # fast-forward only\n",
      "hint:\n",
      "hint: You can replace \"git config\" with \"git config --global\" to set a default\n",
      "hint: preference for all repositories. You can also pass --rebase, --no-rebase,\n",
      "hint: or --ff-only on the command line to override the configured default per\n",
      "hint: invocation.\n",
      "fatal: Need to specify how to reconcile divergent branches.\n"
     ]
    },
    {
     "name": "stdout",
     "output_type": "stream",
     "text": [
      "[main 2dbd8ef] update vote\n",
      " 1 file changed, 1 insertion(+), 1 deletion(-)\n"
     ]
    },
    {
     "name": "stderr",
     "output_type": "stream",
     "text": [
      "To https://github.com/willpoulett/animal_faces_tool\n",
      " ! [rejected]        main -> main (non-fast-forward)\n",
      "error: failed to push some refs to 'https://github.com/willpoulett/animal_faces_tool'\n",
      "hint: Updates were rejected because the tip of your current branch is behind\n",
      "hint: its remote counterpart. If you want to integrate the remote changes,\n",
      "hint: use 'git pull' before pushing again.\n",
      "hint: See the 'Note about fast-forwards' in 'git push --help' for details.\n"
     ]
    }
   ],
   "source": [
    "add_a_vote(\"votes_a\",\"img_001\")"
   ]
  }
 ],
 "metadata": {
  "kernelspec": {
   "display_name": "Python 3 (ipykernel)",
   "language": "python",
   "name": "python3"
  },
  "language_info": {
   "codemirror_mode": {
    "name": "ipython",
    "version": 3
   },
   "file_extension": ".py",
   "mimetype": "text/x-python",
   "name": "python",
   "nbconvert_exporter": "python",
   "pygments_lexer": "ipython3",
   "version": "3.10.13"
  }
 },
 "nbformat": 4,
 "nbformat_minor": 2
}
